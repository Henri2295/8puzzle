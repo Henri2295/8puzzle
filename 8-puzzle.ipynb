{
 "cells": [
  {
   "cell_type": "code",
   "execution_count": null,
   "metadata": {
    "collapsed": true
   },
   "outputs": [],
   "source": [
    "#### Problem definition."
   ]
  },
  {
   "cell_type": "code",
   "execution_count": 1,
   "metadata": {
    "collapsed": true
   },
   "outputs": [],
   "source": [
    "import numpy as np"
   ]
  },
  {
   "cell_type": "code",
   "execution_count": 54,
   "metadata": {},
   "outputs": [
    {
     "name": "stdout",
     "output_type": "stream",
     "text": [
      "s_i\n",
      " [[1 3 5]\n",
      " [0 2 6]\n",
      " [4 8 7]]\n",
      "s_f\n",
      " [[1 2 3]\n",
      " [4 5 6]\n",
      " [7 8 0]]\n"
     ]
    }
   ],
   "source": [
    "s_i = np.array([[1,3,5],[0,2,6],[4,8,7]])\n",
    "print('s_i\\n', s_i)\n",
    "\n",
    "s_f = np.array([[1,2,3],[4,5,6],[7,8,0]])\n",
    "print('s_f\\n', s_f)"
   ]
  },
  {
   "cell_type": "code",
   "execution_count": 55,
   "metadata": {},
   "outputs": [],
   "source": [
    "x = np.argwhere(s_i == 0)\n",
    "\n"
   ]
  },
  {
   "cell_type": "code",
   "execution_count": 49,
   "metadata": {},
   "outputs": [
    {
     "name": "stdout",
     "output_type": "stream",
     "text": [
      "[[1 3 5]\n",
      " [4 2 6]\n",
      " [0 8 7]]\n"
     ]
    }
   ],
   "source": [
    "\n",
    "#UP\n",
    "if x[0,0]-1>=0:\n",
    "    s_i[1,0] = s_i[2,0]\n",
    "    s_i[2,0]=0\n",
    "    print(s_i)\n",
    "\n",
    "\n"
   ]
  },
  {
   "cell_type": "code",
   "execution_count": 53,
   "metadata": {},
   "outputs": [
    {
     "name": "stdout",
     "output_type": "stream",
     "text": [
      "[[0 3 5]\n",
      " [1 2 6]\n",
      " [4 8 7]]\n"
     ]
    }
   ],
   "source": [
    "#down\n",
    "if x[0,0]+1<=2:\n",
    "    s_i[1,0] = s_i[0,0]\n",
    "    s_i[0,0]=0\n",
    "    print(s_i)"
   ]
  },
  {
   "cell_type": "code",
   "execution_count": 56,
   "metadata": {},
   "outputs": [
    {
     "name": "stdout",
     "output_type": "stream",
     "text": [
      "[[1 3 5]\n",
      " [2 0 6]\n",
      " [4 8 7]]\n"
     ]
    }
   ],
   "source": [
    "#right\n",
    "if x[0,1]+1<=2:\n",
    "    s_i[1,0] = s_i[1,1]\n",
    "    s_i[1,1]=0\n",
    "    print(s_i)    \n",
    "        "
   ]
  },
  {
   "cell_type": "code",
   "execution_count": 34,
   "metadata": {},
   "outputs": [],
   "source": [
    "actions = ['up', 'down', 'left', 'right']\n",
    "\n",
    "class puzle: \n",
    "    def possible_actions(s):\n",
    "        if x[0,0]-1>=0:\n",
    "            print('up')\n",
    "        if x[0,0]+1<=2:\n",
    "            print('down')  \n",
    "        if x[0,1]-1>=0:\n",
    "            print('left')\n",
    "        if x[0,1]+1<=2:\n",
    "            print('right')\n",
    "        return possible_actions\n",
    "\n",
    "    def new_state(s,a):\n",
    "        pass"
   ]
  },
  {
   "cell_type": "code",
   "execution_count": 35,
   "metadata": {},
   "outputs": [
    {
     "name": "stdout",
     "output_type": "stream",
     "text": [
      "up\n",
      "down\n",
      "left\n",
      "right\n",
      "<function possible_actions at 0x000000AF5CEC7268>\n"
     ]
    }
   ],
   "source": [
    "print(puzle.possible_actions(s_i))"
   ]
  },
  {
   "cell_type": "code",
   "execution_count": null,
   "metadata": {
    "collapsed": true
   },
   "outputs": [],
   "source": []
  }
 ],
 "metadata": {
  "kernelspec": {
   "display_name": "Python 3",
   "language": "python",
   "name": "python3"
  },
  "language_info": {
   "codemirror_mode": {
    "name": "ipython",
    "version": 3
   },
   "file_extension": ".py",
   "mimetype": "text/x-python",
   "name": "python",
   "nbconvert_exporter": "python",
   "pygments_lexer": "ipython3",
   "version": "3.6.2"
  }
 },
 "nbformat": 4,
 "nbformat_minor": 2
}
