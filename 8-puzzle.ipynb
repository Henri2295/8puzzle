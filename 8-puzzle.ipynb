{
 "cells": [
  {
   "cell_type": "code",
   "execution_count": 1,
   "metadata": {
    "collapsed": true
   },
   "outputs": [],
   "source": [
    "#### Problem definition."
   ]
  },
  {
   "cell_type": "code",
   "execution_count": 2,
   "metadata": {
    "collapsed": true
   },
   "outputs": [],
   "source": [
    "import numpy as np"
   ]
  },
  {
   "cell_type": "code",
   "execution_count": 32,
   "metadata": {},
   "outputs": [
    {
     "name": "stdout",
     "output_type": "stream",
     "text": [
      "s_i\n",
      " [[1 3 5]\n",
      " [2 0 6]\n",
      " [4 8 7]]\n",
      "s_f\n",
      " [[1 2 3]\n",
      " [4 5 6]\n",
      " [7 8 0]]\n",
      "[[1 1]]\n"
     ]
    }
   ],
   "source": [
    "s_i = np.array([[1,3,5],[2,0,6],[4,8,7]])\n",
    "print('s_i\\n', s_i)\n",
    "\n",
    "s_f = np.array([[1,2,3],[4,5,6],[7,8,0]])\n",
    "print('s_f\\n', s_f)\n",
    "\n",
    "x = np.argwhere(s_i == 0)\n",
    "print(x)"
   ]
  },
  {
   "cell_type": "code",
   "execution_count": 44,
   "metadata": {},
   "outputs": [],
   "source": [
    "\n",
    "def possible_actions(s):\n",
    "    x = np.argwhere(s == 0)\n",
    "    actions = []\n",
    "    if x[0,0]-1>=0:\n",
    "        actions.append('up')\n",
    "    if x[0,0]+1<=2:\n",
    "        actions.append('down')\n",
    "    if x[0,1]-1>=0:\n",
    "        actions.append('left')\n",
    "    if x[0,1]+1<=2:\n",
    "        actions.append('right')\n",
    "    return actions\n",
    "\n",
    "def new_state(s,a):\n",
    "    x = np.argwhere(s == 0)\n",
    "    s_out = s.copy()\n",
    "\n",
    "    if a == 'up':\n",
    "        s_out[x[0,0], x[0,1]] = s_out[x[0,0]+1, x[0,1]]\n",
    "        s_out[x[0,0]+1, x[0,1]]=0\n",
    "    \n",
    "    if a == 'down':\n",
    "        s_out[x[0,0], x[0,1]] = s_out[x[0,0]-1, x[0,1]]\n",
    "        s_out[x[0,0]-1, x[0,1]]=0\n",
    "    \n",
    "    if a == 'left':\n",
    "        s_out[x[0,0], x[0,1]] = s_out[x[0,0], x[0,1]-1]\n",
    "        s_out[x[0,0], x[0,1]-1]=0\n",
    "     \n",
    "    if a == 'right':\n",
    "        s_out[x[0,0], x[0,1]] = s_out[x[0,0], x[0,1]+1]\n",
    "        s_out[x[0,0], x[0,1]+1]=0\n",
    "        \n",
    "    return s_out\n",
    "        "
   ]
  },
  {
   "cell_type": "code",
   "execution_count": 45,
   "metadata": {},
   "outputs": [
    {
     "name": "stdout",
     "output_type": "stream",
     "text": [
      "s_i\n",
      " [[1 3 5]\n",
      " [2 0 6]\n",
      " [4 8 7]]\n",
      "[[1 3 5]\n",
      " [2 6 0]\n",
      " [4 8 7]]\n"
     ]
    }
   ],
   "source": [
    "####prueba \n",
    "s_i = np.array([[1,3,5],[2,0,6],[4,8,7]])\n",
    "print('s_i\\n', s_i)\n",
    "print(new_state(s_i,'right'))"
   ]
  },
  {
   "cell_type": "code",
   "execution_count": null,
   "metadata": {
    "collapsed": true
   },
   "outputs": [],
   "source": []
  },
  {
   "cell_type": "code",
   "execution_count": 60,
   "metadata": {},
   "outputs": [],
   "source": [
    "class Node(): \n",
    "    def __init__(self, dad ,state):\n",
    "        self.dad = dad\n",
    "        self.state = state\n",
    "        n = Node(None, s_i)\n",
    "        n1 = Node(n.state, s_1)\n",
    "        if (np.array_equal(n.state, n1.state)== True):\n",
    "            print('fin')\n",
    "    \n",
    "    \n",
    "    \n",
    "        \n",
    "        "
   ]
  },
  {
   "cell_type": "code",
   "execution_count": 72,
   "metadata": {},
   "outputs": [
    {
     "ename": "NameError",
     "evalue": "name 'dequeleft' is not defined",
     "output_type": "error",
     "traceback": [
      "\u001b[1;31m---------------------------------------------------------------------------\u001b[0m",
      "\u001b[1;31mNameError\u001b[0m                                 Traceback (most recent call last)",
      "\u001b[1;32m<ipython-input-72-c137b6a03984>\u001b[0m in \u001b[0;36m<module>\u001b[1;34m()\u001b[0m\n\u001b[0;32m      1\u001b[0m \u001b[1;32mfrom\u001b[0m \u001b[0mcollections\u001b[0m \u001b[1;32mimport\u001b[0m \u001b[0mdeque\u001b[0m\u001b[1;33m\u001b[0m\u001b[0m\n\u001b[1;32m----> 2\u001b[1;33m \u001b[0mdq\u001b[0m \u001b[1;33m=\u001b[0m \u001b[0mdequeleft\u001b[0m\u001b[1;33m(\u001b[0m\u001b[1;33m[\u001b[0m\u001b[1;34m'b'\u001b[0m\u001b[1;33m,\u001b[0m\u001b[1;34m'c'\u001b[0m\u001b[1;33m,\u001b[0m\u001b[1;34m'd'\u001b[0m\u001b[1;33m]\u001b[0m\u001b[1;33m)\u001b[0m\u001b[1;33m\u001b[0m\u001b[0m\n\u001b[0m\u001b[0;32m      3\u001b[0m \u001b[0mprint\u001b[0m \u001b[1;33m(\u001b[0m\u001b[0mdq\u001b[0m\u001b[1;33m)\u001b[0m\u001b[1;33m\u001b[0m\u001b[0m\n",
      "\u001b[1;31mNameError\u001b[0m: name 'dequeleft' is not defined"
     ]
    }
   ],
   "source": [
    "from collections import deque\n",
    "dq = dequeleft(['b','c','d'])\n",
    "print (dq)"
   ]
  },
  {
   "cell_type": "code",
   "execution_count": null,
   "metadata": {
    "collapsed": true
   },
   "outputs": [],
   "source": [
    "print(Node.)"
   ]
  },
  {
   "cell_type": "code",
   "execution_count": 71,
   "metadata": {},
   "outputs": [
    {
     "ename": "AttributeError",
     "evalue": "'list' object has no attribute 'popleft'",
     "output_type": "error",
     "traceback": [
      "\u001b[1;31m---------------------------------------------------------------------------\u001b[0m",
      "\u001b[1;31mAttributeError\u001b[0m                            Traceback (most recent call last)",
      "\u001b[1;32m<ipython-input-71-c61a4046e7f4>\u001b[0m in \u001b[0;36m<module>\u001b[1;34m()\u001b[0m\n\u001b[0;32m      1\u001b[0m \u001b[0mlis\u001b[0m \u001b[1;33m=\u001b[0m \u001b[1;33m[\u001b[0m\u001b[1;36m5\u001b[0m\u001b[1;33m,\u001b[0m\u001b[1;36m2\u001b[0m\u001b[1;33m,\u001b[0m\u001b[1;36m3\u001b[0m\u001b[1;33m]\u001b[0m\u001b[1;33m\u001b[0m\u001b[0m\n\u001b[1;32m----> 2\u001b[1;33m \u001b[0mlis\u001b[0m\u001b[1;33m.\u001b[0m\u001b[0mpopleft\u001b[0m\u001b[1;33m(\u001b[0m\u001b[1;33m)\u001b[0m\u001b[1;33m\u001b[0m\u001b[0m\n\u001b[0m\u001b[0;32m      3\u001b[0m \u001b[0mprint\u001b[0m\u001b[1;33m(\u001b[0m\u001b[0mlis\u001b[0m\u001b[1;33m)\u001b[0m\u001b[1;33m\u001b[0m\u001b[0m\n",
      "\u001b[1;31mAttributeError\u001b[0m: 'list' object has no attribute 'popleft'"
     ]
    }
   ],
   "source": [
    "lis = [5,2,3]\n",
    "lis.popleft()\n",
    "print(lis)"
   ]
  },
  {
   "cell_type": "code",
   "execution_count": null,
   "metadata": {
    "collapsed": true
   },
   "outputs": [],
   "source": []
  },
  {
   "cell_type": "code",
   "execution_count": null,
   "metadata": {
    "collapsed": true
   },
   "outputs": [],
   "source": []
  }
 ],
 "metadata": {
  "kernelspec": {
   "display_name": "Python 3",
   "language": "python",
   "name": "python3"
  },
  "language_info": {
   "codemirror_mode": {
    "name": "ipython",
    "version": 3
   },
   "file_extension": ".py",
   "mimetype": "text/x-python",
   "name": "python",
   "nbconvert_exporter": "python",
   "pygments_lexer": "ipython3",
   "version": "3.6.2"
  }
 },
 "nbformat": 4,
 "nbformat_minor": 2
}
