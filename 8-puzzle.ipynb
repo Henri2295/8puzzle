{
 "cells": [
  {
   "cell_type": "code",
   "execution_count": 4,
   "metadata": {
    "collapsed": true
   },
   "outputs": [],
   "source": [
    "# 8Puzle"
   ]
  },
  {
   "cell_type": "code",
   "execution_count": 39,
   "metadata": {
    "collapsed": true
   },
   "outputs": [],
   "source": [
    "import numpy as np\n",
    "from collections import deque"
   ]
  },
  {
   "cell_type": "code",
   "execution_count": 58,
   "metadata": {},
   "outputs": [
    {
     "name": "stdout",
     "output_type": "stream",
     "text": [
      "s_i\n",
      " [[1 2 3]\n",
      " [4 5 6]\n",
      " [7 8 0]]\n",
      "s_f\n",
      " [[1 2 3]\n",
      " [4 5 6]\n",
      " [7 0 8]]\n"
     ]
    }
   ],
   "source": [
    "s_i = np.array([[1,2,3],[4,5,6],[7,8,0]])\n",
    "print('s_i\\n', s_i)\n",
    "\n",
    "s_f = np.array([[1,2,3],[4,5,6],[7,0,8]])\n",
    "print('s_f\\n', s_f)\n",
    "\n",
    "\n"
   ]
  },
  {
   "cell_type": "code",
   "execution_count": 59,
   "metadata": {
    "collapsed": true
   },
   "outputs": [],
   "source": [
    "\n",
    "def possible_actions(s):\n",
    "    x = np.argwhere(s == 0)\n",
    "    \n",
    "    actions = []\n",
    "    \n",
    "    if x[0,0]-1>=0:\n",
    "        actions.append('down')\n",
    "        \n",
    "    if x[0,0]+1<=2:\n",
    "        actions.append('up')\n",
    "        \n",
    "    if x[0,1]-1>=0:\n",
    "        actions.append('right')\n",
    "        \n",
    "    if x[0,1]+1<=2:\n",
    "        actions.append('left')\n",
    "    return actions\n",
    "\n",
    "def new_state(s,a):\n",
    "    \n",
    "    x = np.argwhere(s == 0)\n",
    "    s_out = s.copy()\n",
    "\n",
    "    if a == 'up':\n",
    "        s_out[x[0,0], x[0,1]] = s_out[x[0,0]+1, x[0,1]]\n",
    "        s_out[x[0,0]+1, x[0,1]]=0\n",
    "    \n",
    "    if a == 'down':\n",
    "        s_out[x[0,0], x[0,1]] = s_out[x[0,0]-1, x[0,1]]\n",
    "        s_out[x[0,0]-1, x[0,1]]=0\n",
    "    \n",
    "    if a == 'right':\n",
    "        s_out[x[0,0], x[0,1]] = s_out[x[0,0], x[0,1]-1]\n",
    "        s_out[x[0,0], x[0,1]-1]=0\n",
    "     \n",
    "    if a == 'left':\n",
    "        s_out[x[0,0], x[0,1]] = s_out[x[0,0], x[0,1]+1]\n",
    "        s_out[x[0,0], x[0,1]+1]=0\n",
    "        \n",
    "    return s_out\n",
    "\n",
    "\n",
    "def is_child_in_explored(child, explorado):\n",
    "    for state in explorado: \n",
    "        if (np.array_equal(child,state)==True):\n",
    "            return True\n",
    "        return False           \n",
    "        \n",
    "def is_child_in_frontier(child,fronter):\n",
    "    for node in fronter:\n",
    "        if (np.array_equal(child,node.state)==True):\n",
    "            return True\n",
    "    return False\n",
    "\n",
    "\n",
    "\n",
    "class Node(): \n",
    "    def __init__(self, dad ,state, action):\n",
    "        self.dad = dad #atributos clase\n",
    "        self.state = state\n",
    "        self.action = action"
   ]
  },
  {
   "cell_type": "code",
   "execution_count": 60,
   "metadata": {
    "collapsed": true
   },
   "outputs": [],
   "source": [
    "def bfs():\n",
    "    node_1 = Node(None,s_i, None)\n",
    "       \n",
    "    fronter = deque()\n",
    "    fronter.append(node_1)\n",
    "    \n",
    "    explorado = []\n",
    "    final_child = None\n",
    "   \n",
    "    while(True): \n",
    "        if len(fronter)==0: #conjunto de la frontera Vacia.\n",
    "            print('failure')\n",
    "            break\n",
    "    \n",
    "        else:\n",
    "            node_1 = fronter.popleft() #FIFO nodo mas superficial de la frontera.\n",
    "            explorado.append(node_1.state) #agregar el nodo de explorado a los explorados.\n",
    "        solution =False    \n",
    "        for action in possible_actions(node_1.state):\n",
    "            child = Node(node_1, new_state(node_1.state, action), action)\n",
    "            \n",
    "            if (is_child_in_explored(child.state, explorado)==False and is_child_in_frontier(child.state,fronter)==False):\n",
    "                if (np.array_equal(child.state,s_f)==True):\n",
    "                    solution = True\n",
    "                    final_child = child\n",
    "                    break\n",
    "                fronter.append(child)\n",
    "        if (solution == True):\n",
    "            break\n",
    "   \n",
    "    \n",
    "       \n",
    "    node_aux = final_child\n",
    "    sol_actions  = []\n",
    "    while(node_aux.action != None):\n",
    "        sol_actions.append(node_aux.action)\n",
    "        node_aux = node_aux.dad\n",
    "        \n",
    "    return print(list(reversed(sol_actions)))"
   ]
  },
  {
   "cell_type": "code",
   "execution_count": 61,
   "metadata": {},
   "outputs": [
    {
     "name": "stdout",
     "output_type": "stream",
     "text": [
      "['right']\n"
     ]
    }
   ],
   "source": [
    "bfs()"
   ]
  },
  {
   "cell_type": "code",
   "execution_count": null,
   "metadata": {
    "collapsed": true
   },
   "outputs": [],
   "source": []
  }
 ],
 "metadata": {
  "kernelspec": {
   "display_name": "Python 3",
   "language": "python",
   "name": "python3"
  },
  "language_info": {
   "codemirror_mode": {
    "name": "ipython",
    "version": 3
   },
   "file_extension": ".py",
   "mimetype": "text/x-python",
   "name": "python",
   "nbconvert_exporter": "python",
   "pygments_lexer": "ipython3",
   "version": "3.6.2"
  }
 },
 "nbformat": 4,
 "nbformat_minor": 2
}
